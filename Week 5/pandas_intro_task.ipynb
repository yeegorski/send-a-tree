{
 "cells": [
  {
   "cell_type": "markdown",
   "metadata": {},
   "source": [
    "**A small intro pandas task**\n",
    "\n",
    "1. Which location brought the most registrations to Send-a-Tree?\n",
    "2. Which micro segment (combination of 'source', 'phone_type', 'location' and 'birth_year') has the most registered users?\n",
    "3. What source brought the most super tree sends?\n",
    "4. Visualize the number of daily registrations on a line chart!"
   ]
  },
  {
   "cell_type": "code",
   "execution_count": 31,
   "metadata": {},
   "outputs": [],
   "source": [
    "import pandas as pd\n",
    "import matplotlib.pyplot as plt\n",
    "import seaborn as sns\n",
    "%matplotlib inline\n",
    "sns.set()"
   ]
  },
  {
   "cell_type": "code",
   "execution_count": 4,
   "metadata": {},
   "outputs": [],
   "source": [
    "registration = pd.read_csv('/home/dataguy/registration/registration.csv', delimiter = ' ', names=['day','date','time','user_id','event','birth_year','phone','country','source'])"
   ]
  },
  {
   "cell_type": "code",
   "execution_count": 21,
   "metadata": {},
   "outputs": [
    {
     "data": {
      "text/html": [
       "<div>\n",
       "<style scoped>\n",
       "    .dataframe tbody tr th:only-of-type {\n",
       "        vertical-align: middle;\n",
       "    }\n",
       "\n",
       "    .dataframe tbody tr th {\n",
       "        vertical-align: top;\n",
       "    }\n",
       "\n",
       "    .dataframe thead th {\n",
       "        text-align: right;\n",
       "    }\n",
       "</style>\n",
       "<table border=\"1\" class=\"dataframe\">\n",
       "  <thead>\n",
       "    <tr style=\"text-align: right;\">\n",
       "      <th></th>\n",
       "      <th>day</th>\n",
       "      <th>date</th>\n",
       "      <th>time</th>\n",
       "      <th>user_id</th>\n",
       "      <th>event</th>\n",
       "      <th>birth_year</th>\n",
       "      <th>phone</th>\n",
       "      <th>country</th>\n",
       "      <th>source</th>\n",
       "    </tr>\n",
       "  </thead>\n",
       "  <tbody>\n",
       "    <tr>\n",
       "      <th>0</th>\n",
       "      <td>day_1</td>\n",
       "      <td>2019-09-13</td>\n",
       "      <td>00:32:11</td>\n",
       "      <td>1000001</td>\n",
       "      <td>registration</td>\n",
       "      <td>1983</td>\n",
       "      <td>android</td>\n",
       "      <td>sweden</td>\n",
       "      <td>invite_a_friend</td>\n",
       "    </tr>\n",
       "    <tr>\n",
       "      <th>1</th>\n",
       "      <td>day_1</td>\n",
       "      <td>2019-09-13</td>\n",
       "      <td>00:55:42</td>\n",
       "      <td>1000002</td>\n",
       "      <td>registration</td>\n",
       "      <td>1986</td>\n",
       "      <td>ios</td>\n",
       "      <td>united_states</td>\n",
       "      <td>invite_a_friend</td>\n",
       "    </tr>\n",
       "    <tr>\n",
       "      <th>2</th>\n",
       "      <td>day_1</td>\n",
       "      <td>2019-09-13</td>\n",
       "      <td>01:05:20</td>\n",
       "      <td>1000003</td>\n",
       "      <td>registration</td>\n",
       "      <td>1989</td>\n",
       "      <td>error</td>\n",
       "      <td>sweden</td>\n",
       "      <td>invite_a_friend</td>\n",
       "    </tr>\n",
       "    <tr>\n",
       "      <th>3</th>\n",
       "      <td>day_1</td>\n",
       "      <td>2019-09-13</td>\n",
       "      <td>01:23:24</td>\n",
       "      <td>1000004</td>\n",
       "      <td>registration</td>\n",
       "      <td>1994</td>\n",
       "      <td>error</td>\n",
       "      <td>germany</td>\n",
       "      <td>invite_a_friend</td>\n",
       "    </tr>\n",
       "    <tr>\n",
       "      <th>4</th>\n",
       "      <td>day_1</td>\n",
       "      <td>2019-09-13</td>\n",
       "      <td>01:24:16</td>\n",
       "      <td>1000005</td>\n",
       "      <td>registration</td>\n",
       "      <td>1986</td>\n",
       "      <td>ios</td>\n",
       "      <td>united_states</td>\n",
       "      <td>invite_a_friend</td>\n",
       "    </tr>\n",
       "  </tbody>\n",
       "</table>\n",
       "</div>"
      ],
      "text/plain": [
       "     day        date      time  user_id         event  birth_year    phone  \\\n",
       "0  day_1  2019-09-13  00:32:11  1000001  registration        1983  android   \n",
       "1  day_1  2019-09-13  00:55:42  1000002  registration        1986      ios   \n",
       "2  day_1  2019-09-13  01:05:20  1000003  registration        1989    error   \n",
       "3  day_1  2019-09-13  01:23:24  1000004  registration        1994    error   \n",
       "4  day_1  2019-09-13  01:24:16  1000005  registration        1986      ios   \n",
       "\n",
       "         country           source  \n",
       "0         sweden  invite_a_friend  \n",
       "1  united_states  invite_a_friend  \n",
       "2         sweden  invite_a_friend  \n",
       "3        germany  invite_a_friend  \n",
       "4  united_states  invite_a_friend  "
      ]
     },
     "execution_count": 21,
     "metadata": {},
     "output_type": "execute_result"
    }
   ],
   "source": [
    "#the answer:\n",
    "registration.head()"
   ]
  },
  {
   "cell_type": "markdown",
   "metadata": {},
   "source": [
    "1. Which location brought the most registrations to Send-a-Tree?"
   ]
  },
  {
   "cell_type": "code",
   "execution_count": 8,
   "metadata": {},
   "outputs": [
    {
     "data": {
      "text/html": [
       "<div>\n",
       "<style scoped>\n",
       "    .dataframe tbody tr th:only-of-type {\n",
       "        vertical-align: middle;\n",
       "    }\n",
       "\n",
       "    .dataframe tbody tr th {\n",
       "        vertical-align: top;\n",
       "    }\n",
       "\n",
       "    .dataframe thead th {\n",
       "        text-align: right;\n",
       "    }\n",
       "</style>\n",
       "<table border=\"1\" class=\"dataframe\">\n",
       "  <thead>\n",
       "    <tr style=\"text-align: right;\">\n",
       "      <th></th>\n",
       "      <th>event</th>\n",
       "    </tr>\n",
       "    <tr>\n",
       "      <th>country</th>\n",
       "      <th></th>\n",
       "    </tr>\n",
       "  </thead>\n",
       "  <tbody>\n",
       "    <tr>\n",
       "      <th>united_states</th>\n",
       "      <td>103934</td>\n",
       "    </tr>\n",
       "    <tr>\n",
       "      <th>brazil</th>\n",
       "      <td>51957</td>\n",
       "    </tr>\n",
       "    <tr>\n",
       "      <th>sweden</th>\n",
       "      <td>31834</td>\n",
       "    </tr>\n",
       "    <tr>\n",
       "      <th>philippines</th>\n",
       "      <td>21060</td>\n",
       "    </tr>\n",
       "    <tr>\n",
       "      <th>germany</th>\n",
       "      <td>20832</td>\n",
       "    </tr>\n",
       "  </tbody>\n",
       "</table>\n",
       "</div>"
      ],
      "text/plain": [
       "                event\n",
       "country              \n",
       "united_states  103934\n",
       "brazil          51957\n",
       "sweden          31834\n",
       "philippines     21060\n",
       "germany         20832"
      ]
     },
     "execution_count": 8,
     "metadata": {},
     "output_type": "execute_result"
    }
   ],
   "source": [
    "registration.groupby('country').count()[['event']].sort_values(by = 'event',ascending=False)"
   ]
  },
  {
   "cell_type": "markdown",
   "metadata": {},
   "source": [
    "2. Which micro segment (combination of 'source', 'phone_type', 'location' and 'birth_year') has the most registered users?"
   ]
  },
  {
   "cell_type": "code",
   "execution_count": 76,
   "metadata": {},
   "outputs": [
    {
     "data": {
      "text/html": [
       "<div>\n",
       "<style scoped>\n",
       "    .dataframe tbody tr th:only-of-type {\n",
       "        vertical-align: middle;\n",
       "    }\n",
       "\n",
       "    .dataframe tbody tr th {\n",
       "        vertical-align: top;\n",
       "    }\n",
       "\n",
       "    .dataframe thead th {\n",
       "        text-align: right;\n",
       "    }\n",
       "</style>\n",
       "<table border=\"1\" class=\"dataframe\">\n",
       "  <thead>\n",
       "    <tr style=\"text-align: right;\">\n",
       "      <th></th>\n",
       "      <th></th>\n",
       "      <th></th>\n",
       "      <th></th>\n",
       "      <th>user_id</th>\n",
       "    </tr>\n",
       "    <tr>\n",
       "      <th>source</th>\n",
       "      <th>phone</th>\n",
       "      <th>country</th>\n",
       "      <th>birth_year</th>\n",
       "      <th></th>\n",
       "    </tr>\n",
       "  </thead>\n",
       "  <tbody>\n",
       "    <tr>\n",
       "      <th>invite_a_friend</th>\n",
       "      <th>android</th>\n",
       "      <th>united_states</th>\n",
       "      <th>1987</th>\n",
       "      <td>2496</td>\n",
       "    </tr>\n",
       "  </tbody>\n",
       "</table>\n",
       "</div>"
      ],
      "text/plain": [
       "                                                  user_id\n",
       "source          phone   country       birth_year         \n",
       "invite_a_friend android united_states 1987           2496"
      ]
     },
     "execution_count": 76,
     "metadata": {},
     "output_type": "execute_result"
    }
   ],
   "source": [
    "#the answer:\n",
    "registration.groupby(['source','phone','country','birth_year']).count()[['user_id']].sort_values(by = 'user_id',ascending=False).iloc[[0]]"
   ]
  },
  {
   "cell_type": "markdown",
   "metadata": {},
   "source": [
    "3. What source brought the most super tree sends?"
   ]
  },
  {
   "cell_type": "code",
   "execution_count": 18,
   "metadata": {},
   "outputs": [],
   "source": [
    "super_tree = pd.read_csv('/home/dataguy/super_tree/super_tree.csv', header = None, delimiter = ' ', names = ['day','date','user_id','event'])"
   ]
  },
  {
   "cell_type": "code",
   "execution_count": 19,
   "metadata": {},
   "outputs": [
    {
     "data": {
      "text/html": [
       "<div>\n",
       "<style scoped>\n",
       "    .dataframe tbody tr th:only-of-type {\n",
       "        vertical-align: middle;\n",
       "    }\n",
       "\n",
       "    .dataframe tbody tr th {\n",
       "        vertical-align: top;\n",
       "    }\n",
       "\n",
       "    .dataframe thead th {\n",
       "        text-align: right;\n",
       "    }\n",
       "</style>\n",
       "<table border=\"1\" class=\"dataframe\">\n",
       "  <thead>\n",
       "    <tr style=\"text-align: right;\">\n",
       "      <th></th>\n",
       "      <th>day</th>\n",
       "      <th>date</th>\n",
       "      <th>user_id</th>\n",
       "      <th>event</th>\n",
       "    </tr>\n",
       "  </thead>\n",
       "  <tbody>\n",
       "    <tr>\n",
       "      <th>0</th>\n",
       "      <td>day_1</td>\n",
       "      <td>2019-09-13</td>\n",
       "      <td>1000080</td>\n",
       "      <td>sent_a_super_tree</td>\n",
       "    </tr>\n",
       "    <tr>\n",
       "      <th>1</th>\n",
       "      <td>day_1</td>\n",
       "      <td>2019-09-13</td>\n",
       "      <td>1000080</td>\n",
       "      <td>sent_a_super_tree</td>\n",
       "    </tr>\n",
       "    <tr>\n",
       "      <th>2</th>\n",
       "      <td>day_1</td>\n",
       "      <td>2019-09-13</td>\n",
       "      <td>1000042</td>\n",
       "      <td>sent_a_super_tree</td>\n",
       "    </tr>\n",
       "    <tr>\n",
       "      <th>3</th>\n",
       "      <td>day_1</td>\n",
       "      <td>2019-09-13</td>\n",
       "      <td>1000037</td>\n",
       "      <td>sent_a_super_tree</td>\n",
       "    </tr>\n",
       "    <tr>\n",
       "      <th>4</th>\n",
       "      <td>day_1</td>\n",
       "      <td>2019-09-13</td>\n",
       "      <td>1000037</td>\n",
       "      <td>sent_a_super_tree</td>\n",
       "    </tr>\n",
       "  </tbody>\n",
       "</table>\n",
       "</div>"
      ],
      "text/plain": [
       "     day        date  user_id              event\n",
       "0  day_1  2019-09-13  1000080  sent_a_super_tree\n",
       "1  day_1  2019-09-13  1000080  sent_a_super_tree\n",
       "2  day_1  2019-09-13  1000042  sent_a_super_tree\n",
       "3  day_1  2019-09-13  1000037  sent_a_super_tree\n",
       "4  day_1  2019-09-13  1000037  sent_a_super_tree"
      ]
     },
     "execution_count": 19,
     "metadata": {},
     "output_type": "execute_result"
    }
   ],
   "source": [
    "super_tree.head()"
   ]
  },
  {
   "cell_type": "code",
   "execution_count": 22,
   "metadata": {},
   "outputs": [],
   "source": [
    "reg_super = registration.merge(super_tree, on='user_id')"
   ]
  },
  {
   "cell_type": "code",
   "execution_count": 27,
   "metadata": {},
   "outputs": [
    {
     "data": {
      "text/html": [
       "<div>\n",
       "<style scoped>\n",
       "    .dataframe tbody tr th:only-of-type {\n",
       "        vertical-align: middle;\n",
       "    }\n",
       "\n",
       "    .dataframe tbody tr th {\n",
       "        vertical-align: top;\n",
       "    }\n",
       "\n",
       "    .dataframe thead th {\n",
       "        text-align: right;\n",
       "    }\n",
       "</style>\n",
       "<table border=\"1\" class=\"dataframe\">\n",
       "  <thead>\n",
       "    <tr style=\"text-align: right;\">\n",
       "      <th></th>\n",
       "      <th>day_x</th>\n",
       "      <th>date_x</th>\n",
       "      <th>time</th>\n",
       "      <th>user_id</th>\n",
       "      <th>event_x</th>\n",
       "      <th>birth_year</th>\n",
       "      <th>phone</th>\n",
       "      <th>country</th>\n",
       "      <th>source</th>\n",
       "      <th>day_y</th>\n",
       "      <th>date_y</th>\n",
       "      <th>event_y</th>\n",
       "    </tr>\n",
       "  </thead>\n",
       "  <tbody>\n",
       "    <tr>\n",
       "      <th>0</th>\n",
       "      <td>day_1</td>\n",
       "      <td>2019-09-13</td>\n",
       "      <td>01:34:53</td>\n",
       "      <td>1000007</td>\n",
       "      <td>registration</td>\n",
       "      <td>1994</td>\n",
       "      <td>android</td>\n",
       "      <td>sweden</td>\n",
       "      <td>invite_a_friend</td>\n",
       "      <td>day_1</td>\n",
       "      <td>2019-09-13</td>\n",
       "      <td>sent_a_super_tree</td>\n",
       "    </tr>\n",
       "    <tr>\n",
       "      <th>1</th>\n",
       "      <td>day_1</td>\n",
       "      <td>2019-09-13</td>\n",
       "      <td>02:07:31</td>\n",
       "      <td>1000010</td>\n",
       "      <td>registration</td>\n",
       "      <td>1993</td>\n",
       "      <td>error</td>\n",
       "      <td>brazil</td>\n",
       "      <td>invite_a_friend</td>\n",
       "      <td>day_1</td>\n",
       "      <td>2019-09-13</td>\n",
       "      <td>sent_a_super_tree</td>\n",
       "    </tr>\n",
       "    <tr>\n",
       "      <th>2</th>\n",
       "      <td>day_1</td>\n",
       "      <td>2019-09-13</td>\n",
       "      <td>02:07:31</td>\n",
       "      <td>1000010</td>\n",
       "      <td>registration</td>\n",
       "      <td>1993</td>\n",
       "      <td>error</td>\n",
       "      <td>brazil</td>\n",
       "      <td>invite_a_friend</td>\n",
       "      <td>day_2</td>\n",
       "      <td>2019-09-14</td>\n",
       "      <td>sent_a_super_tree</td>\n",
       "    </tr>\n",
       "    <tr>\n",
       "      <th>3</th>\n",
       "      <td>day_1</td>\n",
       "      <td>2019-09-13</td>\n",
       "      <td>02:07:31</td>\n",
       "      <td>1000010</td>\n",
       "      <td>registration</td>\n",
       "      <td>1993</td>\n",
       "      <td>error</td>\n",
       "      <td>brazil</td>\n",
       "      <td>invite_a_friend</td>\n",
       "      <td>day_2</td>\n",
       "      <td>2019-09-14</td>\n",
       "      <td>sent_a_super_tree</td>\n",
       "    </tr>\n",
       "    <tr>\n",
       "      <th>4</th>\n",
       "      <td>day_1</td>\n",
       "      <td>2019-09-13</td>\n",
       "      <td>02:07:31</td>\n",
       "      <td>1000010</td>\n",
       "      <td>registration</td>\n",
       "      <td>1993</td>\n",
       "      <td>error</td>\n",
       "      <td>brazil</td>\n",
       "      <td>invite_a_friend</td>\n",
       "      <td>day_2</td>\n",
       "      <td>2019-09-14</td>\n",
       "      <td>sent_a_super_tree</td>\n",
       "    </tr>\n",
       "  </tbody>\n",
       "</table>\n",
       "</div>"
      ],
      "text/plain": [
       "   day_x      date_x      time  user_id       event_x  birth_year    phone  \\\n",
       "0  day_1  2019-09-13  01:34:53  1000007  registration        1994  android   \n",
       "1  day_1  2019-09-13  02:07:31  1000010  registration        1993    error   \n",
       "2  day_1  2019-09-13  02:07:31  1000010  registration        1993    error   \n",
       "3  day_1  2019-09-13  02:07:31  1000010  registration        1993    error   \n",
       "4  day_1  2019-09-13  02:07:31  1000010  registration        1993    error   \n",
       "\n",
       "  country           source  day_y      date_y            event_y  \n",
       "0  sweden  invite_a_friend  day_1  2019-09-13  sent_a_super_tree  \n",
       "1  brazil  invite_a_friend  day_1  2019-09-13  sent_a_super_tree  \n",
       "2  brazil  invite_a_friend  day_2  2019-09-14  sent_a_super_tree  \n",
       "3  brazil  invite_a_friend  day_2  2019-09-14  sent_a_super_tree  \n",
       "4  brazil  invite_a_friend  day_2  2019-09-14  sent_a_super_tree  "
      ]
     },
     "execution_count": 27,
     "metadata": {},
     "output_type": "execute_result"
    }
   ],
   "source": [
    "reg_super.head()"
   ]
  },
  {
   "cell_type": "code",
   "execution_count": 24,
   "metadata": {},
   "outputs": [
    {
     "name": "stdout",
     "output_type": "stream",
     "text": [
      "<class 'pandas.core.frame.DataFrame'>\n",
      "Int64Index: 141427 entries, 0 to 141426\n",
      "Data columns (total 12 columns):\n",
      "day_x         141427 non-null object\n",
      "date_x        141427 non-null object\n",
      "time          141427 non-null object\n",
      "user_id       141427 non-null int64\n",
      "event_x       141427 non-null object\n",
      "birth_year    141427 non-null int64\n",
      "phone         141427 non-null object\n",
      "country       141427 non-null object\n",
      "source        141427 non-null object\n",
      "day_y         141427 non-null object\n",
      "date_y        141427 non-null object\n",
      "event_y       141427 non-null object\n",
      "dtypes: int64(2), object(10)\n",
      "memory usage: 14.0+ MB\n"
     ]
    }
   ],
   "source": [
    "reg_super.info()"
   ]
  },
  {
   "cell_type": "code",
   "execution_count": 26,
   "metadata": {},
   "outputs": [
    {
     "data": {
      "text/html": [
       "<div>\n",
       "<style scoped>\n",
       "    .dataframe tbody tr th:only-of-type {\n",
       "        vertical-align: middle;\n",
       "    }\n",
       "\n",
       "    .dataframe tbody tr th {\n",
       "        vertical-align: top;\n",
       "    }\n",
       "\n",
       "    .dataframe thead th {\n",
       "        text-align: right;\n",
       "    }\n",
       "</style>\n",
       "<table border=\"1\" class=\"dataframe\">\n",
       "  <thead>\n",
       "    <tr style=\"text-align: right;\">\n",
       "      <th></th>\n",
       "      <th>event_y</th>\n",
       "    </tr>\n",
       "    <tr>\n",
       "      <th>source</th>\n",
       "      <th></th>\n",
       "    </tr>\n",
       "  </thead>\n",
       "  <tbody>\n",
       "    <tr>\n",
       "      <th>invite_a_friend</th>\n",
       "      <td>117241</td>\n",
       "    </tr>\n",
       "  </tbody>\n",
       "</table>\n",
       "</div>"
      ],
      "text/plain": [
       "                 event_y\n",
       "source                  \n",
       "invite_a_friend   117241"
      ]
     },
     "execution_count": 26,
     "metadata": {},
     "output_type": "execute_result"
    }
   ],
   "source": [
    "#the answer:\n",
    "reg_super.groupby('source').count()[['event_y']].sort_values(by = 'event_y', ascending=False).iloc[[0]]"
   ]
  },
  {
   "cell_type": "markdown",
   "metadata": {},
   "source": [
    "4. Visualize the number of daily registrations on a line chart."
   ]
  },
  {
   "cell_type": "code",
   "execution_count": 32,
   "metadata": {},
   "outputs": [],
   "source": [
    "reg_by_date = registration.groupby('date').count()[['user_id']].reset_index(inplace=False)"
   ]
  },
  {
   "cell_type": "code",
   "execution_count": 72,
   "metadata": {},
   "outputs": [
    {
     "data": {
      "text/plain": [
       "<matplotlib.legend.Legend at 0x7f8e49670278>"
      ]
     },
     "execution_count": 72,
     "metadata": {},
     "output_type": "execute_result"
    },
    {
     "data": {
      "image/png": "[encoded data removed]",
      "text/plain": [
       "<Figure size 1080x360 with 1 Axes>"
      ]
     },
     "metadata": {},
     "output_type": "display_data"
    }
   ],
   "source": [
    "plt.style.use('seaborn-bright')\n",
    "reg_by_date.plot.line(x='date',y='user_id',figsize=(15,5),marker='o',color='r',markersize=3.5,markerfacecolor='y')\n",
    "plt.title('Number of Daily Registrations\\nSend A Tree Project')\n",
    "plt.legend(facecolor = 'grey')"
   ]
  },
  {
   "cell_type": "code",
   "execution_count": null,
   "metadata": {},
   "outputs": [],
   "source": []
  }
 ],
 "metadata": {
  "kernelspec": {
   "display_name": "Python 3",
   "language": "python",
   "name": "python3"
  },
  "language_info": {
   "codemirror_mode": {
    "name": "ipython",
    "version": 3
   },
   "file_extension": ".py",
   "mimetype": "text/x-python",
   "name": "python",
   "nbconvert_exporter": "python",
   "pygments_lexer": "ipython3",
   "version": "3.6.9"
  }
 },
 "nbformat": 4,
 "nbformat_minor": 4
}
