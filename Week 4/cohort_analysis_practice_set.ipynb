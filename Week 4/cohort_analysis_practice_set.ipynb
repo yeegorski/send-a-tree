{
 "cells": [
  {
   "cell_type": "code",
   "execution_count": 27,
   "metadata": {},
   "outputs": [],
   "source": [
    "import pandas as pd\n",
    "from datetime import date"
   ]
  },
  {
   "cell_type": "code",
   "execution_count": 21,
   "metadata": {},
   "outputs": [],
   "source": [
    "#a function to convert dates from the string format to the datetime to make date calculations simpler \n",
    "def conv_date(dt):\n",
    "    year = int(dt[:4])\n",
    "    month = int(dt[5:7])\n",
    "    day = int(dt[8:])\n",
    "    return date(year,month,day)"
   ]
  },
  {
   "cell_type": "code",
   "execution_count": 24,
   "metadata": {},
   "outputs": [],
   "source": [
    "#a function that calculates the day differnce between two dates\n",
    "def daydelta(dt1,dt2):\n",
    "    x = conv_date(dt1)\n",
    "    y = conv_date(dt2)\n",
    "    delta = x - y\n",
    "    return delta.days"
   ]
  },
  {
   "cell_type": "code",
   "execution_count": 58,
   "metadata": {},
   "outputs": [],
   "source": [
    "#Given values\n",
    "#test_set: Each sub-list in the main list represents a user. \n",
    "#The dates in the sub-lists are the days on which the given users have sent at least one free_tree.\n",
    "#The task is to create a table (dataframe) where the first column would be the cohort, the second - number of days since\n",
    "#the cohort date, the third - the number of users that sent a free_tree on the given date.\n",
    "test_set = [['2017-06-01', '2017-06-02'],\n",
    "            ['2017-06-01', '2017-06-02'],\n",
    "            ['2017-06-01'],\n",
    "            ['2017-06-01', '2017-06-02', '2017-06-03'],\n",
    "            ['2017-06-01', '2017-06-02', '2017-06-03', '2017-06-04']]\n",
    "cohort = '2017-06-01'\n",
    "date_list = ['2017-06-01', '2017-06-02', '2017-06-03', '2017-06-04']"
   ]
  },
  {
   "cell_type": "code",
   "execution_count": 59,
   "metadata": {},
   "outputs": [],
   "source": [
    "count=0\n",
    "cohort_sum = pd.DataFrame(columns=['cohort','difference','number_of_users']) #creating the dataframe\n",
    "for i in range(0,len(date_list)):\n",
    "    for j in range(0,len(test_set)):\n",
    "        if (date_list[i] in test_set[j]) and (test_set[j][0]==cohort):\n",
    "            count+=1\n",
    "    cohort_sum.at[i,'cohort']=cohort\n",
    "    cohort_sum.at[i,'difference']=daydelta(date_list[i],cohort)\n",
    "    cohort_sum.at[i,'number_of_users']=count\n",
    "    count=0"
   ]
  },
  {
   "cell_type": "code",
   "execution_count": 60,
   "metadata": {},
   "outputs": [
    {
     "data": {
      "text/html": [
       "<div>\n",
       "<style scoped>\n",
       "    .dataframe tbody tr th:only-of-type {\n",
       "        vertical-align: middle;\n",
       "    }\n",
       "\n",
       "    .dataframe tbody tr th {\n",
       "        vertical-align: top;\n",
       "    }\n",
       "\n",
       "    .dataframe thead th {\n",
       "        text-align: right;\n",
       "    }\n",
       "</style>\n",
       "<table border=\"1\" class=\"dataframe\">\n",
       "  <thead>\n",
       "    <tr style=\"text-align: right;\">\n",
       "      <th></th>\n",
       "      <th>cohort</th>\n",
       "      <th>difference</th>\n",
       "      <th>number_of_users</th>\n",
       "    </tr>\n",
       "  </thead>\n",
       "  <tbody>\n",
       "    <tr>\n",
       "      <th>0</th>\n",
       "      <td>2017-06-01</td>\n",
       "      <td>0</td>\n",
       "      <td>5</td>\n",
       "    </tr>\n",
       "    <tr>\n",
       "      <th>1</th>\n",
       "      <td>2017-06-01</td>\n",
       "      <td>1</td>\n",
       "      <td>4</td>\n",
       "    </tr>\n",
       "    <tr>\n",
       "      <th>2</th>\n",
       "      <td>2017-06-01</td>\n",
       "      <td>2</td>\n",
       "      <td>2</td>\n",
       "    </tr>\n",
       "    <tr>\n",
       "      <th>3</th>\n",
       "      <td>2017-06-01</td>\n",
       "      <td>3</td>\n",
       "      <td>1</td>\n",
       "    </tr>\n",
       "  </tbody>\n",
       "</table>\n",
       "</div>"
      ],
      "text/plain": [
       "       cohort difference number_of_users\n",
       "0  2017-06-01          0               5\n",
       "1  2017-06-01          1               4\n",
       "2  2017-06-01          2               2\n",
       "3  2017-06-01          3               1"
      ]
     },
     "execution_count": 60,
     "metadata": {},
     "output_type": "execute_result"
    }
   ],
   "source": [
    "cohort_sum"
   ]
  },
  {
   "cell_type": "code",
   "execution_count": null,
   "metadata": {},
   "outputs": [],
   "source": []
  }
 ],
 "metadata": {
  "kernelspec": {
   "display_name": "Python 3",
   "language": "python",
   "name": "python3"
  },
  "language_info": {
   "codemirror_mode": {
    "name": "ipython",
    "version": 3
   },
   "file_extension": ".py",
   "mimetype": "text/x-python",
   "name": "python",
   "nbconvert_exporter": "python",
   "pygments_lexer": "ipython3",
   "version": "3.6.9"
  }
 },
 "nbformat": 4,
 "nbformat_minor": 4
}
