{
 "cells": [
  {
   "cell_type": "markdown",
   "metadata": {},
   "source": [
    "The dilemma is: the developers say that at the very moment when Send-a-Tree reaches 25,000 free_tree sends per day, the current production server won't be able to handle the traffic and everything will crash. However, they are also busy with implementing a new payment solution, which is quite important too. They want to know what job should be prioritized. And they need this information from you!\n",
    "\n",
    "The question is this: **in the next 4 weeks, will Send-a-Tree possibly reach the 25,000 free-tree sends per day?** \n",
    "*I am actually will try answer the 50k free-tree sends, as I'm doing the task later, and the actual figures have surpassed the 25k mark.*"
   ]
  },
  {
   "cell_type": "code",
   "execution_count": 1,
   "metadata": {},
   "outputs": [],
   "source": [
    "import numpy as np\n",
    "import pandas as pd\n",
    "import matplotlib.pyplot as plt\n",
    "import seaborn as sns\n",
    "%matplotlib inline\n",
    "sns.set()"
   ]
  },
  {
   "cell_type": "code",
   "execution_count": 2,
   "metadata": {},
   "outputs": [],
   "source": [
    "free_tree = pd.read_csv('/home/dataguy/free_tree/free_tree.csv', header = None, delimiter = ' ', names = ['day','date','user_id','event'])"
   ]
  },
  {
   "cell_type": "code",
   "execution_count": 3,
   "metadata": {},
   "outputs": [
    {
     "data": {
      "text/html": [
       "<div>\n",
       "<style scoped>\n",
       "    .dataframe tbody tr th:only-of-type {\n",
       "        vertical-align: middle;\n",
       "    }\n",
       "\n",
       "    .dataframe tbody tr th {\n",
       "        vertical-align: top;\n",
       "    }\n",
       "\n",
       "    .dataframe thead th {\n",
       "        text-align: right;\n",
       "    }\n",
       "</style>\n",
       "<table border=\"1\" class=\"dataframe\">\n",
       "  <thead>\n",
       "    <tr style=\"text-align: right;\">\n",
       "      <th></th>\n",
       "      <th>day</th>\n",
       "      <th>date</th>\n",
       "      <th>user_id</th>\n",
       "      <th>event</th>\n",
       "    </tr>\n",
       "  </thead>\n",
       "  <tbody>\n",
       "    <tr>\n",
       "      <th>2133185</th>\n",
       "      <td>day_261</td>\n",
       "      <td>2020-05-30</td>\n",
       "      <td>1155020</td>\n",
       "      <td>sent_a_free_tree</td>\n",
       "    </tr>\n",
       "    <tr>\n",
       "      <th>2133186</th>\n",
       "      <td>day_261</td>\n",
       "      <td>2020-05-30</td>\n",
       "      <td>1184366</td>\n",
       "      <td>sent_a_free_tree</td>\n",
       "    </tr>\n",
       "    <tr>\n",
       "      <th>2133187</th>\n",
       "      <td>day_261</td>\n",
       "      <td>2020-05-30</td>\n",
       "      <td>1204763</td>\n",
       "      <td>sent_a_free_tree</td>\n",
       "    </tr>\n",
       "    <tr>\n",
       "      <th>2133188</th>\n",
       "      <td>day_261</td>\n",
       "      <td>2020-05-30</td>\n",
       "      <td>1223317</td>\n",
       "      <td>sent_a_free_tree</td>\n",
       "    </tr>\n",
       "    <tr>\n",
       "      <th>2133189</th>\n",
       "      <td>day_261</td>\n",
       "      <td>2020-05-30</td>\n",
       "      <td>1221725</td>\n",
       "      <td>sent_a_free_tree</td>\n",
       "    </tr>\n",
       "  </tbody>\n",
       "</table>\n",
       "</div>"
      ],
      "text/plain": [
       "             day        date  user_id             event\n",
       "2133185  day_261  2020-05-30  1155020  sent_a_free_tree\n",
       "2133186  day_261  2020-05-30  1184366  sent_a_free_tree\n",
       "2133187  day_261  2020-05-30  1204763  sent_a_free_tree\n",
       "2133188  day_261  2020-05-30  1223317  sent_a_free_tree\n",
       "2133189  day_261  2020-05-30  1221725  sent_a_free_tree"
      ]
     },
     "execution_count": 3,
     "metadata": {},
     "output_type": "execute_result"
    }
   ],
   "source": [
    "free_tree.tail()"
   ]
  },
  {
   "cell_type": "code",
   "execution_count": 23,
   "metadata": {},
   "outputs": [],
   "source": [
    "daily_free = free_tree.groupby('date').count()[['event']].reset_index()"
   ]
  },
  {
   "cell_type": "code",
   "execution_count": 25,
   "metadata": {},
   "outputs": [
    {
     "data": {
      "text/plain": [
       "<matplotlib.axes._subplots.AxesSubplot at 0x7f876d6f40f0>"
      ]
     },
     "execution_count": 25,
     "metadata": {},
     "output_type": "execute_result"
    },
    {
     "data": {
      "image/png": "[encoded data removed]",
      "text/plain": [
       "<Figure size 432x288 with 1 Axes>"
      ]
     },
     "metadata": {},
     "output_type": "display_data"
    }
   ],
   "source": [
    "daily_free.plot()"
   ]
  },
  {
   "cell_type": "code",
   "execution_count": 26,
   "metadata": {},
   "outputs": [],
   "source": [
    "#defining X and y values\n",
    "X = daily_free.index\n",
    "y = daily_free.event"
   ]
  },
  {
   "cell_type": "code",
   "execution_count": 77,
   "metadata": {},
   "outputs": [],
   "source": [
    "#fitting the Linear Regression model\n",
    "coefs = np.polyfit(X,y,1)\n",
    "predict = np.poly1d(coefs)"
   ]
  },
  {
   "cell_type": "code",
   "execution_count": 29,
   "metadata": {},
   "outputs": [
    {
     "data": {
      "text/plain": [
       "0.8114150946922729"
      ]
     },
     "execution_count": 29,
     "metadata": {},
     "output_type": "execute_result"
    }
   ],
   "source": [
    "#getting the R-squared for the Linear Regression model\n",
    "from sklearn.metrics import r2_score\n",
    "r2_score(y,predict(X))"
   ]
  },
  {
   "cell_type": "code",
   "execution_count": 78,
   "metadata": {},
   "outputs": [
    {
     "data": {
      "image/png": "[encoded data removed]",
      "text/plain": [
       "<Figure size 432x288 with 1 Axes>"
      ]
     },
     "metadata": {},
     "output_type": "display_data"
    }
   ],
   "source": [
    "#visualizing data and the model\n",
    "X_test = np.linspace(0,261+28)\n",
    "y_pred = predict(X_test)\n",
    "plt.scatter(X,y)\n",
    "plt.plot(X_test, y_pred, c='r',lw=5)\n",
    "plt.show()"
   ]
  },
  {
   "cell_type": "code",
   "execution_count": 41,
   "metadata": {},
   "outputs": [
    {
     "name": "stdout",
     "output_type": "stream",
     "text": [
      "predicted daily free trees in 4 weeks 23132.322812121056\n",
      "actual free tree sends as of the day of making the model 31930\n"
     ]
    }
   ],
   "source": [
    "#prediction for the 4 weeks ahead - unrealistic as a 25k mark has been already surpassed, another model is needed \n",
    "print('predicted daily free trees in 4 weeks ' + str(predict(261+28)))\n",
    "print('actual free tree sends as of the day of making the model ' + str(daily_free.iloc[260].event))"
   ]
  },
  {
   "cell_type": "markdown",
   "metadata": {},
   "source": [
    "Trying the Polynomial Regression"
   ]
  },
  {
   "cell_type": "code",
   "execution_count": 74,
   "metadata": {},
   "outputs": [],
   "source": [
    "#second degree polynomial\n",
    "coefs = np.polyfit(X,y,2)\n",
    "predict = np.poly1d(coefs)"
   ]
  },
  {
   "cell_type": "code",
   "execution_count": 75,
   "metadata": {},
   "outputs": [
    {
     "data": {
      "image/png": "[encoded data removed]",
      "text/plain": [
       "<Figure size 432x288 with 1 Axes>"
      ]
     },
     "metadata": {},
     "output_type": "display_data"
    }
   ],
   "source": [
    "X_test = np.linspace(0,261+28)\n",
    "y_pred = predict(X_test)\n",
    "plt.scatter(X,y)\n",
    "plt.plot(X_test, y_pred, c='r',lw=5)\n",
    "plt.show()"
   ]
  },
  {
   "cell_type": "code",
   "execution_count": 70,
   "metadata": {},
   "outputs": [
    {
     "name": "stdout",
     "output_type": "stream",
     "text": [
      "predicted daily free trees in 4 weeks 34971.95620019017\n",
      "actual free tree sends as of the day of making the model 31930\n"
     ]
    }
   ],
   "source": [
    "#the model fits the data much better\n",
    "#prediction for the 4 weeks ahead \n",
    "print('predicted daily free trees in 4 weeks ' + str(predict(261+28)))\n",
    "print('actual free tree sends as of the day of making the model ' + str(daily_free.iloc[260].event))"
   ]
  },
  {
   "cell_type": "code",
   "execution_count": 72,
   "metadata": {},
   "outputs": [],
   "source": [
    "#third degree polynomial\n",
    "coefs = np.polyfit(X,y,3)\n",
    "predict = np.poly1d(coefs)"
   ]
  },
  {
   "cell_type": "code",
   "execution_count": 73,
   "metadata": {},
   "outputs": [
    {
     "data": {
      "image/png": "[encoded data removed]",
      "text/plain": [
       "<Figure size 432x288 with 1 Axes>"
      ]
     },
     "metadata": {},
     "output_type": "display_data"
    }
   ],
   "source": [
    "X_test = np.linspace(0,261+28)\n",
    "y_pred = predict(X_test)\n",
    "plt.scatter(X,y)\n",
    "plt.plot(X_test, y_pred, c='r',lw=5)\n",
    "plt.show()"
   ]
  },
  {
   "cell_type": "code",
   "execution_count": 67,
   "metadata": {},
   "outputs": [
    {
     "name": "stdout",
     "output_type": "stream",
     "text": [
      "predicted daily free trees in 4 weeks 42495.14798216565\n",
      "actual free tree sends as of the day of making the model 31930\n"
     ]
    }
   ],
   "source": [
    "#the model fits the data event better\n",
    "#prediction for the 4 weeks ahead \n",
    "print('predicted daily free trees in 4 weeks ' + str(predict(261+28)))\n",
    "print('actual free tree sends as of the day of making the model ' + str(daily_free.iloc[260].event))"
   ]
  },
  {
   "cell_type": "markdown",
   "metadata": {},
   "source": [
    "The third degree polynomial model provides us with a good estimation of the free-tree sends for the next 4 weeks. We can report back to the developers that the mark of 50k most likely won't be surpassed in the next month."
   ]
  },
  {
   "cell_type": "code",
   "execution_count": null,
   "metadata": {},
   "outputs": [],
   "source": []
  }
 ],
 "metadata": {
  "kernelspec": {
   "display_name": "Python 3",
   "language": "python",
   "name": "python3"
  },
  "language_info": {
   "codemirror_mode": {
    "name": "ipython",
    "version": 3
   },
   "file_extension": ".py",
   "mimetype": "text/x-python",
   "name": "python",
   "nbconvert_exporter": "python",
   "pygments_lexer": "ipython3",
   "version": "3.6.9"
  }
 },
 "nbformat": 4,
 "nbformat_minor": 4
}
